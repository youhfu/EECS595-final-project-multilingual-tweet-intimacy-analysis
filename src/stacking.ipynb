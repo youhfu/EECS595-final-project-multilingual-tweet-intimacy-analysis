{
 "cells": [
  {
   "cell_type": "code",
   "execution_count": 34,
   "metadata": {},
   "outputs": [],
   "source": [
    "import numpy as np\n",
    "import pandas as pd\n",
    "import matplotlib.pyplot as plt\n",
    "\n",
    "from sklearn.linear_model import LinearRegression\n",
    "from sklearn.preprocessing import StandardScaler\n",
    "from sklearn.model_selection import train_test_split\n",
    "\n",
    "from scipy.stats import pearsonr"
   ]
  },
  {
   "cell_type": "code",
   "execution_count": 39,
   "metadata": {},
   "outputs": [
    {
     "data": {
      "text/plain": [
       "Index(['text', 'label', 'language', 'distil_pred', 'multi_pred', 'xlm_r_pred',\n",
       "       'xlm_t_pred', 'debert_pred'],\n",
       "      dtype='object')"
      ]
     },
     "execution_count": 39,
     "metadata": {},
     "output_type": "execute_result"
    }
   ],
   "source": [
    "test_df = pd.read_csv('test.csv')\n",
    "pred_cols = ['distil_pred', 'xlm_r_pred', 'xlm_t_pred', 'debert_pred']\n",
    "test_df.columns"
   ]
  },
  {
   "cell_type": "code",
   "execution_count": 37,
   "metadata": {},
   "outputs": [
    {
     "data": {
      "text/plain": [
       "Index(['text', 'label', 'language', 'xlm_t_pred', 'xlm_r_pred', 'distil_pred',\n",
       "       'debert_pred'],\n",
       "      dtype='object')"
      ]
     },
     "execution_count": 37,
     "metadata": {},
     "output_type": "execute_result"
    }
   ],
   "source": [
    "train_df = pd.read_csv('train.csv')\n",
    "# train_df = train2\n",
    "train_df.columns"
   ]
  },
  {
   "cell_type": "code",
   "execution_count": 42,
   "metadata": {},
   "outputs": [],
   "source": [
    "train_scaler = StandardScaler()\n",
    "#train_df[pred_cols] = train_scaler.fit_transform(train_df[pred_cols])\n",
    "X_train = train_scaler.fit_transform(train_df[pred_cols])\n",
    "X_test = train_scaler.transform(test_df[pred_cols])\n",
    "\n",
    "label_scaler = StandardScaler()\n",
    "y_train = label_scaler.fit_transform(train_df['label'].values.reshape(-1, 1))\n",
    "y_test = label_scaler.transform(test_df['label'].values.reshape(-1, 1))\n",
    "y_train = y_train.squeeze()\n",
    "y_test = y_test.squeeze()"
   ]
  },
  {
   "cell_type": "code",
   "execution_count": 48,
   "metadata": {},
   "outputs": [],
   "source": [
    "stack_model = LinearRegression()\n",
    "stack_model.fit(X_train, y_train)\n",
    "\n",
    "y_pred = stack_model.predict(X_test)\n",
    "test_df['stack_pred'] = label_scaler.inverse_transform(y_pred.reshape(-1, 1)).squeeze()"
   ]
  },
  {
   "cell_type": "code",
   "execution_count": 49,
   "metadata": {},
   "outputs": [],
   "source": [
    "test_df['avg_pred'] = test_df[pred_cols].mean(axis=1)"
   ]
  },
  {
   "cell_type": "code",
   "execution_count": 51,
   "metadata": {},
   "outputs": [
    {
     "name": "stdout",
     "output_type": "stream",
     "text": [
      "Total correlation with stack: 0.5983060113475012 0.5970805802324285\n"
     ]
    },
    {
     "data": {
      "text/html": [
       "<div>\n",
       "<style scoped>\n",
       "    .dataframe tbody tr th:only-of-type {\n",
       "        vertical-align: middle;\n",
       "    }\n",
       "\n",
       "    .dataframe tbody tr th {\n",
       "        vertical-align: top;\n",
       "    }\n",
       "\n",
       "    .dataframe thead th {\n",
       "        text-align: right;\n",
       "    }\n",
       "</style>\n",
       "<table border=\"1\" class=\"dataframe\">\n",
       "  <thead>\n",
       "    <tr style=\"text-align: right;\">\n",
       "      <th></th>\n",
       "      <th>language</th>\n",
       "      <th>stack_corr</th>\n",
       "      <th>avg_corr</th>\n",
       "    </tr>\n",
       "  </thead>\n",
       "  <tbody>\n",
       "    <tr>\n",
       "      <th>0</th>\n",
       "      <td>Korean</td>\n",
       "      <td>0.378092</td>\n",
       "      <td>0.373683</td>\n",
       "    </tr>\n",
       "    <tr>\n",
       "      <th>1</th>\n",
       "      <td>French</td>\n",
       "      <td>0.693277</td>\n",
       "      <td>0.699726</td>\n",
       "    </tr>\n",
       "    <tr>\n",
       "      <th>2</th>\n",
       "      <td>English</td>\n",
       "      <td>0.700931</td>\n",
       "      <td>0.705324</td>\n",
       "    </tr>\n",
       "    <tr>\n",
       "      <th>3</th>\n",
       "      <td>Italian</td>\n",
       "      <td>0.722706</td>\n",
       "      <td>0.724223</td>\n",
       "    </tr>\n",
       "    <tr>\n",
       "      <th>4</th>\n",
       "      <td>Chinese</td>\n",
       "      <td>0.733498</td>\n",
       "      <td>0.737349</td>\n",
       "    </tr>\n",
       "    <tr>\n",
       "      <th>5</th>\n",
       "      <td>Spanish</td>\n",
       "      <td>0.720840</td>\n",
       "      <td>0.721951</td>\n",
       "    </tr>\n",
       "    <tr>\n",
       "      <th>6</th>\n",
       "      <td>Hindi</td>\n",
       "      <td>0.214868</td>\n",
       "      <td>0.226872</td>\n",
       "    </tr>\n",
       "    <tr>\n",
       "      <th>7</th>\n",
       "      <td>Arabic</td>\n",
       "      <td>0.595549</td>\n",
       "      <td>0.588777</td>\n",
       "    </tr>\n",
       "    <tr>\n",
       "      <th>8</th>\n",
       "      <td>Portuguese</td>\n",
       "      <td>0.673658</td>\n",
       "      <td>0.674833</td>\n",
       "    </tr>\n",
       "    <tr>\n",
       "      <th>9</th>\n",
       "      <td>Dutch</td>\n",
       "      <td>0.602379</td>\n",
       "      <td>0.606787</td>\n",
       "    </tr>\n",
       "  </tbody>\n",
       "</table>\n",
       "</div>"
      ],
      "text/plain": [
       "     language  stack_corr  avg_corr\n",
       "0      Korean    0.378092  0.373683\n",
       "1      French    0.693277  0.699726\n",
       "2     English    0.700931  0.705324\n",
       "3     Italian    0.722706  0.724223\n",
       "4     Chinese    0.733498  0.737349\n",
       "5     Spanish    0.720840  0.721951\n",
       "6       Hindi    0.214868  0.226872\n",
       "7      Arabic    0.595549  0.588777\n",
       "8  Portuguese    0.673658  0.674833\n",
       "9       Dutch    0.602379  0.606787"
      ]
     },
     "execution_count": 51,
     "metadata": {},
     "output_type": "execute_result"
    }
   ],
   "source": [
    "cor_list1 = []\n",
    "cor_list2 = []\n",
    "language_list = test_df['language'].unique()\n",
    "for lang in language_list:\n",
    "    lang_df = test_df[test_df['language'] == lang]\n",
    "    corr_stack, _ = pearsonr(lang_df['label'], lang_df['stack_pred'])\n",
    "    cor_list1.append(corr_stack)\n",
    "    corr_avg, _ = pearsonr(lang_df['label'], lang_df['avg_pred'])\n",
    "    cor_list2.append(corr_avg)\n",
    "\n",
    "cor_df = pd.DataFrame({'language': language_list, 'stack_corr': cor_list1, 'avg_corr': cor_list2})\n",
    "total_corr_stack, _ = pearsonr(test_df['label'], test_df['stack_pred'])\n",
    "total_corr_avg, _ = pearsonr(test_df['label'], test_df['avg_pred'])\n",
    "print('Total correlation with stack:', total_corr_stack, total_corr_avg)\n",
    "cor_df"
   ]
  }
 ],
 "metadata": {
  "kernelspec": {
   "display_name": "base",
   "language": "python",
   "name": "python3"
  },
  "language_info": {
   "codemirror_mode": {
    "name": "ipython",
    "version": 3
   },
   "file_extension": ".py",
   "mimetype": "text/x-python",
   "name": "python",
   "nbconvert_exporter": "python",
   "pygments_lexer": "ipython3",
   "version": "3.8.18"
  }
 },
 "nbformat": 4,
 "nbformat_minor": 2
}
